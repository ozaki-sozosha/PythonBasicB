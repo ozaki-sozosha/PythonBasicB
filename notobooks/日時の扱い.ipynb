{
 "cells": [
  {
   "cell_type": "code",
   "execution_count": 1,
   "id": "d34a752a-18c1-4aac-a26e-63869e782669",
   "metadata": {},
   "outputs": [
    {
     "name": "stdout",
     "output_type": "stream",
     "text": [
      "2024-06-05 09:00:43.641241\n",
      "2024-06-05\n"
     ]
    }
   ],
   "source": [
    "#日付や日時の扱い方\n",
    "import datetime\n",
    "\n",
    "# datetime.datetimeオブジェクト\n",
    "# 今日の日付、現在時間を取得\n",
    "current = datetime.datetime.now()\n",
    "print(current)\n",
    "\n",
    "# datetime.dateオブジェクト\n",
    "today = datetime.date.today()\n",
    "print(today)"
   ]
  },
  {
   "cell_type": "code",
   "execution_count": 8,
   "id": "9f6a3306-c540-4ab8-b179-c04dcb607d6d",
   "metadata": {},
   "outputs": [
    {
     "name": "stdout",
     "output_type": "stream",
     "text": [
      "2023-05-01 13:00:00\n",
      "2024-03-03 00:00:00\n",
      "2024-05-05\n"
     ]
    }
   ],
   "source": [
    "# 指定した日時をデータ化する\n",
    "dt1 = datetime.datetime(2023,5,1,13,0,0)\n",
    "print(dt1)\n",
    "# 時刻は省略化(00:00:00として処理される)\n",
    "dt2 = datetime.datetime(2024,3,3)\n",
    "print(dt2)\n",
    "# 指定日をdateオブジェクトでデータ化\n",
    "d1 = datetime.date(2024,5,5)\n",
    "print(d1)"
   ]
  },
  {
   "cell_type": "code",
   "execution_count": 9,
   "id": "49009805-f389-4a59-9b74-be38ead05586",
   "metadata": {},
   "outputs": [
    {
     "name": "stdout",
     "output_type": "stream",
     "text": [
      "2023年05月01日 13時00分00秒\n"
     ]
    }
   ],
   "source": [
    "# datetimeオブジェクト、dateオブジェクトを文字列に変換\n",
    "dt1_j = dt1.strftime('%Y年%m月%d日 %H時%M分%S秒')\n",
    "print(dt1_j)"
   ]
  },
  {
   "cell_type": "code",
   "execution_count": null,
   "id": "3eaa56a7-d46e-4b1d-8d62-5272c8ceeb45",
   "metadata": {},
   "outputs": [],
   "source": [
    "\"\"\"\n",
    "%d: 0埋めした10進数で表記した月中の日にち\n",
    "%m: 0埋めした10進数で表記した月\n",
    "%y: 0埋めした10進数で表記した西暦の下2桁\n",
    "%Y: 0埋めした10進数で表記した西暦4桁\n",
    "%H: 0埋めした10進数で表記した時 （24時間表記）\n",
    "%I: 0埋めした10進数で表記した時 （12時間表記）\n",
    "%M: 0埋めした10進数で表記した分\n",
    "%S: 0埋めした10進数で表記した秒\n",
    "%f: 0埋めした10進数で表記したマイクロ秒（6桁）\n",
    "%A: ロケールの曜日名\n",
    "%a: ロケールの曜日名（短縮形）\n",
    "%B: ロケールの月名\n",
    "%b: ロケールの月名（短縮形）\n",
    "%j: 0埋めした10進数で表記した年中の日にち（正月が'001'）\n",
    "%U: 0埋めした10進数で表記した年中の週番号 （週の始まりは日曜日）\n",
    "%W: 0埋めした10進数で表記した年中の週番号 （週の始まりは月曜日）\n",
    "\"\"\""
   ]
  },
  {
   "cell_type": "code",
   "execution_count": 7,
   "id": "d2084c5c-7540-4370-82d0-43c9bda77a26",
   "metadata": {},
   "outputs": [
    {
     "name": "stdout",
     "output_type": "stream",
     "text": [
      "False\n",
      "1968-03-30 00:00:00\n",
      "1968-05-01 00:00:00\n",
      "True\n"
     ]
    }
   ],
   "source": [
    "# 文字列としての日付\n",
    "bd1_j = '1968年03月30日'\n",
    "bd2_j = '1968/05/01'\n",
    "\n",
    "# 文字列としての比較\n",
    "print(bd1_j < bd2_j)\n",
    "\n",
    "# 文字列から日時オブジェクトを生成\n",
    "format1 = '%Y年%m月%d日'\n",
    "bd1 = datetime.datetime.strptime(bd1_j,format1)\n",
    "print(bd1)\n",
    "\n",
    "format2 = '%Y/%m/%d'\n",
    "bd2 = datetime.datetime.strptime(bd2_j,format2)\n",
    "print(bd2)\n",
    "\n",
    "# 日時オブジェクトとしての比較\n",
    "print(bd1 < bd2)"
   ]
  },
  {
   "cell_type": "code",
   "execution_count": null,
   "id": "702d1ff4-7b9b-4280-b473-d9dae5acc171",
   "metadata": {},
   "outputs": [],
   "source": []
  }
 ],
 "metadata": {
  "kernelspec": {
   "display_name": "Python 3 (ipykernel)",
   "language": "python",
   "name": "python3"
  },
  "language_info": {
   "codemirror_mode": {
    "name": "ipython",
    "version": 3
   },
   "file_extension": ".py",
   "mimetype": "text/x-python",
   "name": "python",
   "nbconvert_exporter": "python",
   "pygments_lexer": "ipython3",
   "version": "3.12.1"
  }
 },
 "nbformat": 4,
 "nbformat_minor": 5
}
