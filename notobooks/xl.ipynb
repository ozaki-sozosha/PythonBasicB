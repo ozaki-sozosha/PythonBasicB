{
 "cells": [
  {
   "cell_type": "code",
   "execution_count": 1,
   "id": "0038caa5-2349-4628-8b8b-34ad4b29e33d",
   "metadata": {},
   "outputs": [],
   "source": [
    "# ライブラリのインポート\n",
    "import openpyxl"
   ]
  },
  {
   "cell_type": "code",
   "execution_count": 2,
   "id": "12ef228f-b442-4689-b487-2d55b0e56034",
   "metadata": {},
   "outputs": [],
   "source": [
    "# ファイルの操作\n",
    "workbook = openpyxl.Workbook()\n",
    "workbook.save(\"number.xlsx\")"
   ]
  },
  {
   "cell_type": "code",
   "execution_count": 3,
   "id": "c1a5d58c-e514-4df5-a82f-f9b4b0ffad1a",
   "metadata": {},
   "outputs": [],
   "source": [
    "# 既存のファイルnumber.xlsxを編集して保存\n",
    "workbook = openpyxl.load_workbook('number.xlsx')\n",
    "workbook.save('number.xlsx')"
   ]
  },
  {
   "cell_type": "code",
   "execution_count": 4,
   "id": "8fbd0dd8-cf9c-44cb-b68c-4df01ecf9a81",
   "metadata": {},
   "outputs": [
    {
     "data": {
      "text/plain": [
       "['Sheet']"
      ]
     },
     "execution_count": 4,
     "metadata": {},
     "output_type": "execute_result"
    }
   ],
   "source": [
    "# ワークシートの操作\n",
    "# シート名を指定\n",
    "worksheet = workbook[\"Sheet\"]\n",
    "# アクティブなシートを選択\n",
    "worksheet = workbook.active\n",
    "# シート名の一覧を取得\n",
    "workbook.sheetnames"
   ]
  },
  {
   "cell_type": "code",
   "execution_count": null,
   "id": "6bff4413-b5ed-4c3c-91a7-7210f2160bf1",
   "metadata": {},
   "outputs": [],
   "source": [
    "# セルの操作\n",
    "# A1セルを取得\n",
    "value = worksheet['A1'].value\n",
    "value = worksheet.cell(row=1,column=1).value\n",
    "# A1セルに文字列を書き込む\n",
    "worksheet['A1'].value = \"創造社デザイン専門学校\"\n",
    "worksheet.cell(row=1,col=1).value = \"Sozosha\""
   ]
  },
  {
   "cell_type": "code",
   "execution_count": 12,
   "id": "78b72482-0403-4fdf-be60-fc8a79555681",
   "metadata": {},
   "outputs": [],
   "source": [
    "# 重要メソッド\n",
    "# シートの最大行(最終データが記載されている行)\n",
    "maxrow = worksheet.max_row\n",
    "# シートの最大列(最終データが記載されている列)\n",
    "maxcol = worksheet.max_column\n",
    "# シートの最小行(最初のデータが記載されている行)\n",
    "minrow = worksheet.min_row\n",
    "# シートの最大列(最終データが記載されている列)\n",
    "minrcol = worksheet.min_column"
   ]
  },
  {
   "cell_type": "code",
   "execution_count": null,
   "id": "bd099678-272b-4b33-8df2-974521eefd72",
   "metadata": {},
   "outputs": [],
   "source": [
    "#下記の辞書型データを科目をA列、成績をB列に書き込み、exam.xlsxとして保存します。\n",
    "exam = {\"英語\":80, \"国語\":78, \"数学\":65, \"日本史\":55, \"生物\":90}"
   ]
  },
  {
   "cell_type": "code",
   "execution_count": 13,
   "id": "830666b1-3cf4-4869-8c20-eca55b4af32d",
   "metadata": {},
   "outputs": [],
   "source": [
    "# 作成したexam.xlsxを開き、B10セルに成績の合計、B11セルに平均を計算する"
   ]
  }
 ],
 "metadata": {
  "kernelspec": {
   "display_name": "Python 3 (ipykernel)",
   "language": "python",
   "name": "python3"
  },
  "language_info": {
   "codemirror_mode": {
    "name": "ipython",
    "version": 3
   },
   "file_extension": ".py",
   "mimetype": "text/x-python",
   "name": "python",
   "nbconvert_exporter": "python",
   "pygments_lexer": "ipython3",
   "version": "3.12.1"
  }
 },
 "nbformat": 4,
 "nbformat_minor": 5
}
