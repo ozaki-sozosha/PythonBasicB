{
 "cells": [
  {
   "cell_type": "code",
   "execution_count": 1,
   "id": "576593cb-0d8e-461a-b61e-937876366452",
   "metadata": {},
   "outputs": [],
   "source": [
    "class Ticket:\n",
    "    # コンストラクタ\n",
    "    def __init__(self, event_name,sheet_no,price):\n",
    "        self.event_name = event_name\n",
    "        self.sheet_no = sheet_no\n",
    "        self.price = price\n",
    "\n",
    "    def show_detail(self):\n",
    "        return f\"公演名:{self.event_name} 座席番号:{self.sheet_no} チェット代金:{self.price}\""
   ]
  },
  {
   "cell_type": "code",
   "execution_count": 2,
   "id": "94f4f90c-e02f-457a-9219-0de948095a65",
   "metadata": {},
   "outputs": [
    {
     "data": {
      "text/plain": [
       "'公演名:創造社音楽祭 座席番号:A4 チェット代金:2000'"
      ]
     },
     "execution_count": 2,
     "metadata": {},
     "output_type": "execute_result"
    }
   ],
   "source": [
    "ti = Ticket(\"創造社音楽祭\",\"A4\",\"2000\")\n",
    "ti.show_detail()"
   ]
  },
  {
   "cell_type": "code",
   "execution_count": 3,
   "id": "372d49b1-9bcd-4714-8fab-ce3369f732ee",
   "metadata": {},
   "outputs": [
    {
     "name": "stdout",
     "output_type": "stream",
     "text": [
      "公演名:肥後橋夏フェス 座席番号:Z001 チェット代金:0\n"
     ]
    }
   ],
   "source": [
    "# Ticketを継承してVipTicket(招待チケット)を作る\n",
    "class VipTicket(Ticket):\n",
    "    # コンストラクタ\n",
    "    def __init__(self, event_name,sheet_no):\n",
    "        self.event_name = event_name\n",
    "        self.sheet_no = sheet_no\n",
    "        self.price = 0\n",
    "\n",
    "vti = VipTicket(\"肥後橋夏フェス\",\"Z001\")\n",
    "# Ticketを継承しているため、show_detailメソッドはVipTicketクラスに定義しなくても備えている\n",
    "print(vti.show_detail())"
   ]
  },
  {
   "cell_type": "code",
   "execution_count": null,
   "id": "df1fd605-5022-486a-a15e-f499772f86b6",
   "metadata": {},
   "outputs": [],
   "source": []
  }
 ],
 "metadata": {
  "kernelspec": {
   "display_name": "Python 3 (ipykernel)",
   "language": "python",
   "name": "python3"
  },
  "language_info": {
   "codemirror_mode": {
    "name": "ipython",
    "version": 3
   },
   "file_extension": ".py",
   "mimetype": "text/x-python",
   "name": "python",
   "nbconvert_exporter": "python",
   "pygments_lexer": "ipython3",
   "version": "3.12.1"
  }
 },
 "nbformat": 4,
 "nbformat_minor": 5
}
