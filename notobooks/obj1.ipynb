{
 "cells": [
  {
   "cell_type": "code",
   "execution_count": 1,
   "id": "afc9f6af-c477-4889-902c-ba6358cede24",
   "metadata": {},
   "outputs": [],
   "source": [
    "class Ticket:\n",
    "    event_name = \"肥後橋夏フェス\"\n",
    "    sheet_no = \"A200\"\n",
    "    price = 5000\n",
    "\n",
    "    def show_detail(self):\n",
    "        return f\"公演名:{self.event_name} 座席番号:{self.sheet_no} チェット代金:{self.price}\""
   ]
  },
  {
   "cell_type": "code",
   "execution_count": 2,
   "id": "9bb61962-4391-414c-afc0-f7be34ec5ff2",
   "metadata": {},
   "outputs": [
    {
     "name": "stdout",
     "output_type": "stream",
     "text": [
      "公演名:肥後橋夏フェス 座席番号:A200 チェット代金:5000\n"
     ]
    }
   ],
   "source": [
    "# 変数tiにクラス設計図から生成したオブジェクトを代入(インスタンス化)\n",
    "ti = Ticket()\n",
    "# インスタンスのメソッドを実行\n",
    "print(ti.show_detail())"
   ]
  },
  {
   "cell_type": "code",
   "execution_count": null,
   "id": "372202fe-c4eb-4e0d-b161-a69ca7750538",
   "metadata": {},
   "outputs": [],
   "source": []
  }
 ],
 "metadata": {
  "kernelspec": {
   "display_name": "Python 3 (ipykernel)",
   "language": "python",
   "name": "python3"
  },
  "language_info": {
   "codemirror_mode": {
    "name": "ipython",
    "version": 3
   },
   "file_extension": ".py",
   "mimetype": "text/x-python",
   "name": "python",
   "nbconvert_exporter": "python",
   "pygments_lexer": "ipython3",
   "version": "3.12.1"
  }
 },
 "nbformat": 4,
 "nbformat_minor": 5
}
