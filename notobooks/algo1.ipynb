{
 "cells": [
  {
   "cell_type": "code",
   "execution_count": 4,
   "id": "fbc447fc-5818-4715-a940-f689dcf39a7e",
   "metadata": {},
   "outputs": [
    {
     "data": {
      "text/plain": [
       "[6, 1, 10, 2, 8, 9, 5, 3, 7, 4]"
      ]
     },
     "execution_count": 4,
     "metadata": {},
     "output_type": "execute_result"
    }
   ],
   "source": [
    "import random\n",
    "#重複しない乱数を作成する\n",
    "def rand_list(a, b, k):\n",
    "  ns = []\n",
    "  while len(ns) < k:\n",
    "    n = random.randint(a, b)\n",
    "    if not n in ns:\n",
    "      ns.append(n)\n",
    "  return ns\n",
    "    \n",
    "r = rand_list(1,10,10)\n",
    "print(r)"
   ]
  },
  {
   "cell_type": "code",
   "execution_count": null,
   "id": "f1daa1c9-2380-48c3-8cad-3dd94021ffde",
   "metadata": {},
   "outputs": [],
   "source": [
    "#平均値を求める\n",
    "\"\"\"\n",
    "pythonのsum関数は使わない\n",
    "\"\"\""
   ]
  },
  {
   "cell_type": "code",
   "execution_count": null,
   "id": "9f3d0358-e9e5-4398-8204-7fe4f3cbb3b8",
   "metadata": {},
   "outputs": [],
   "source": [
    "#最大値を求める\n",
    "\"\"\"\n",
    "pythonのmax関数は使わない\n",
    "\"\"\""
   ]
  },
  {
   "cell_type": "code",
   "execution_count": null,
   "id": "754bc55e-c76f-4c58-a297-de55012e6bc1",
   "metadata": {},
   "outputs": [],
   "source": [
    "#最小値を求める\n",
    "\"\"\"\n",
    "pythonのmin関数は使わない\n",
    "\"\"\""
   ]
  },
  {
   "cell_type": "code",
   "execution_count": null,
   "id": "4a648e9d-24cd-4894-862b-da360c1adb98",
   "metadata": {},
   "outputs": [],
   "source": [
    "#最大値最小値を除外して平均値を求める"
   ]
  },
  {
   "cell_type": "code",
   "execution_count": null,
   "id": "c73b2a76-ab1f-467d-bb90-eab1e6d9fda9",
   "metadata": {},
   "outputs": [],
   "source": [
    "#1からnまで足し合わせる\n",
    "\"\"\"\n",
    "1 から n　まで足し算を行います。\n",
    "n = 3 の時 1 + 2 + 3 \n",
    "\"\"\""
   ]
  },
  {
   "cell_type": "code",
   "execution_count": null,
   "id": "01939a78-46d3-431e-92bc-42ea81de417d",
   "metadata": {},
   "outputs": [],
   "source": [
    "#素数を求める\n",
    "\"\"\"\n",
    "素数とは1とその数以外に約数を持たない2以上の自然数\n",
    "2 3 5 7 11 17....\n",
    "\"\"\""
   ]
  },
  {
   "cell_type": "code",
   "execution_count": null,
   "id": "d775086a-d802-4ea7-9258-6bf074529e9e",
   "metadata": {},
   "outputs": [],
   "source": [
    "#fizzbuzz\n",
    "\"\"\"\n",
    "数字を１から順に１００までログ出力します。ただし、\n",
    "・数字が３の倍数の時には数字の代わりに「Fizz」\n",
    "・数字が５の倍数の時には数字の代わりに「Buzz」\n",
    "・数字が３の倍数かつ５の倍数の時には代わりに「FizzBuzz」\n",
    "と出力するようにしてください。\n",
    "\"\"\""
   ]
  },
  {
   "cell_type": "code",
   "execution_count": null,
   "id": "e50f6ea7-7104-4baa-8688-40e8bbbee9f2",
   "metadata": {},
   "outputs": [],
   "source": [
    "#nの階乗\n",
    "\"\"\"\n",
    "1からnまでの自然数の積をnの階乗といいます。n!と表現します。\n",
    "n = 5 の時　1 x 2 x 3 x 4 x 5\n",
    "1!は1 0!は1となります。\n",
    "\"\"\""
   ]
  }
 ],
 "metadata": {
  "kernelspec": {
   "display_name": "Python 3 (ipykernel)",
   "language": "python",
   "name": "python3"
  },
  "language_info": {
   "codemirror_mode": {
    "name": "ipython",
    "version": 3
   },
   "file_extension": ".py",
   "mimetype": "text/x-python",
   "name": "python",
   "nbconvert_exporter": "python",
   "pygments_lexer": "ipython3",
   "version": "3.12.1"
  }
 },
 "nbformat": 4,
 "nbformat_minor": 5
}
